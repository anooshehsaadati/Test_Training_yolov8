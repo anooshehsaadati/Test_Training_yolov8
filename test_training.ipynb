{
 "cells": [
  {
   "cell_type": "code",
   "execution_count": 2,
   "metadata": {},
   "outputs": [],
   "source": [
    "from ultralytics import YOLO\n",
    "import cv2"
   ]
  },
  {
   "cell_type": "code",
   "execution_count": 10,
   "metadata": {},
   "outputs": [
    {
     "name": "stderr",
     "output_type": "stream",
     "text": [
      "\n",
      "image 1/1 c:\\anoosheh\\CP\\Master\\Thesis\\Implementation\\Segmentation\\YOLO\\YOLOv8\\Test_training_yolo\\unseen_image.jpg: 384x640 1 red_cube, 1 blue_cube, 1 yellow_cube, 180.2ms\n",
      "Speed: 2.0ms preprocess, 180.2ms inference, 4.0ms postprocess per image at shape (1, 3, 384, 640)\n"
     ]
    }
   ],
   "source": [
    "model = YOLO('best.pt')\n",
    "\n",
    "# res = model.predict('multiple_rgby_01.mp4', show = True)\n",
    "res = model.track(source=\"multiple_rgby_01.mp4\", show=True)\n",
    "\n",
    "cv2.waitKey(0)\n",
    "\n",
    "cv2.destroyAllWindows()"
   ]
  },
  {
   "cell_type": "code",
   "execution_count": 11,
   "metadata": {},
   "outputs": [
    {
     "name": "stdout",
     "output_type": "stream",
     "text": [
      "ultralytics.engine.results.Boxes object with attributes:\n",
      "\n",
      "cls: tensor([0., 1., 3.])\n",
      "conf: tensor([0.9695, 0.9551, 0.9548])\n",
      "data: tensor([[490.4301, 284.2039, 626.8669, 419.4309,   1.0000,   0.9695,   0.0000],\n",
      "        [627.4832, 294.0767, 746.9913, 410.5885,   2.0000,   0.9551,   1.0000],\n",
      "        [736.5342, 335.3284, 871.3693, 463.2516,   3.0000,   0.9548,   3.0000]])\n",
      "id: tensor([1., 2., 3.])\n",
      "is_track: True\n",
      "orig_shape: (720, 1280)\n",
      "shape: torch.Size([3, 7])\n",
      "xywh: tensor([[558.6485, 351.8174, 136.4369, 135.2271],\n",
      "        [687.2372, 352.3326, 119.5082, 116.5118],\n",
      "        [803.9518, 399.2900, 134.8351, 127.9232]])\n",
      "xywhn: tensor([[0.4364, 0.4886, 0.1066, 0.1878],\n",
      "        [0.5369, 0.4894, 0.0934, 0.1618],\n",
      "        [0.6281, 0.5546, 0.1053, 0.1777]])\n",
      "xyxy: tensor([[490.4301, 284.2039, 626.8669, 419.4309],\n",
      "        [627.4832, 294.0767, 746.9913, 410.5885],\n",
      "        [736.5342, 335.3284, 871.3693, 463.2516]])\n",
      "xyxyn: tensor([[0.3831, 0.3947, 0.4897, 0.5825],\n",
      "        [0.4902, 0.4084, 0.5836, 0.5703],\n",
      "        [0.5754, 0.4657, 0.6808, 0.6434]])\n"
     ]
    }
   ],
   "source": [
    "for r in res:\n",
    "    print(r.boxes)"
   ]
  },
  {
   "cell_type": "code",
   "execution_count": null,
   "metadata": {},
   "outputs": [],
   "source": []
  }
 ],
 "metadata": {
  "kernelspec": {
   "display_name": "Python 3",
   "language": "python",
   "name": "python3"
  },
  "language_info": {
   "codemirror_mode": {
    "name": "ipython",
    "version": 3
   },
   "file_extension": ".py",
   "mimetype": "text/x-python",
   "name": "python",
   "nbconvert_exporter": "python",
   "pygments_lexer": "ipython3",
   "version": "3.10.11"
  }
 },
 "nbformat": 4,
 "nbformat_minor": 2
}
